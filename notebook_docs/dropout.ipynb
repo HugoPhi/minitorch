{
 "cells": [
  {
   "cell_type": "markdown",
   "id": "d0f6ab72-4c73-4312-ace0-d4e9b8618538",
   "metadata": {},
   "source": [
    "# Dropout Mechanism"
   ]
  },
  {
   "cell_type": "code",
   "execution_count": 1,
   "id": "33c3413d-fddc-45ad-b457-d87de0343e7f",
   "metadata": {},
   "outputs": [],
   "source": [
    "import jax.numpy as jnp\n",
    "from jax import random, jit"
   ]
  },
  {
   "cell_type": "markdown",
   "id": "a1df3f8e-751b-4b93-8cc8-01d58baff070",
   "metadata": {},
   "source": [
    "## # Big No No !"
   ]
  },
  {
   "cell_type": "markdown",
   "id": "34321b42-037b-4a4c-9329-84cca6f7140a",
   "metadata": {},
   "source": [
    "To make sure the selected dropout neuros are different from batch to batch. You should split the key you use. Or it can drop the same neuros for each batch just like: "
   ]
  },
  {
   "cell_type": "code",
   "execution_count": 2,
   "id": "cdf17e04-5425-4efc-b5f1-22df53fbf310",
   "metadata": {},
   "outputs": [],
   "source": [
    "def dropout(x: jnp.ndarray, key, p=0.5, train=True):\n",
    "    if not train:\n",
    "        return x, key\n",
    "    p_keep = 1 - p\n",
    "    mask = random.bernoulli(key, p_keep, x.shape)\n",
    "\n",
    "    return jnp.where(mask, x/p_keep, 0)  # scale here to make E(X) the same while evaluating."
   ]
  },
  {
   "cell_type": "code",
   "execution_count": 3,
   "id": "81fb62df-195f-49d4-889f-047fcd87fe89",
   "metadata": {},
   "outputs": [
    {
     "name": "stdout",
     "output_type": "stream",
     "text": [
      "Batch 1 :\n",
      " [0. 2. 0. 2. 0. 2. 2. 2. 0. 2. 2. 0. 2. 2. 2. 0. 2. 2. 0. 2.]\n",
      "Batch 201 :\n",
      " [0. 2. 0. 2. 0. 2. 2. 2. 0. 2. 2. 0. 2. 2. 2. 0. 2. 2. 0. 2.]\n",
      "Batch 401 :\n",
      " [0. 2. 0. 2. 0. 2. 2. 2. 0. 2. 2. 0. 2. 2. 2. 0. 2. 2. 0. 2.]\n",
      "Batch 601 :\n",
      " [0. 2. 0. 2. 0. 2. 2. 2. 0. 2. 2. 0. 2. 2. 2. 0. 2. 2. 0. 2.]\n",
      "Batch 801 :\n",
      " [0. 2. 0. 2. 0. 2. 2. 2. 0. 2. 2. 0. 2. 2. 2. 0. 2. 2. 0. 2.]\n",
      "time: 0.213700532913208\n"
     ]
    }
   ],
   "source": [
    "key = random.PRNGKey(41)\n",
    "x = jnp.ones((100))  # Input data\n",
    "\n",
    "p = 0.5\n",
    "\n",
    "import time\n",
    "s = time.time()\n",
    "for i in range(1000):  # batches\n",
    "    x_dropout = dropout(x, key, p, True)\n",
    "    if i % 200 == 0:\n",
    "        print(f\"Batch {i + 1} :\\n\", x_dropout[::5])\n",
    "\n",
    "print(f'time: {time.time() - s}')"
   ]
  },
  {
   "cell_type": "markdown",
   "id": "86bf2d55-5983-48a0-bb3c-c57fdf7cc1d1",
   "metadata": {},
   "source": [
    "each batch are the same. To avoid this, we can split the key and return it explicitly & change past-in key value."
   ]
  },
  {
   "cell_type": "code",
   "execution_count": 4,
   "id": "9695f476-028b-4da5-97c0-c274a99d25e8",
   "metadata": {},
   "outputs": [],
   "source": [
    "def dropout(x: jnp.ndarray, key, p=0.5, train=True):\n",
    "    if not train:\n",
    "        return x, key\n",
    "    p_keep = 1 - p\n",
    "    new_key, use_key = random.split(key)  # update key\n",
    "    mask = random.bernoulli(use_key, p_keep, x.shape)\n",
    "\n",
    "    return jnp.where(mask, x/p_keep, 0), new_key  # scale here to make E(X) the same while evaluating."
   ]
  },
  {
   "cell_type": "code",
   "execution_count": 5,
   "id": "ec15a59c-54b4-4ef8-9d9a-0c3a9406e5c6",
   "metadata": {},
   "outputs": [
    {
     "name": "stdout",
     "output_type": "stream",
     "text": [
      "Batch 1 :\n",
      " [0. 0. 0. 0. 2. 0. 2. 2. 0. 0. 0. 2. 2. 0. 0. 0. 0. 0. 0. 0.]\n",
      "Batch 201 :\n",
      " [0. 0. 2. 0. 2. 0. 2. 0. 2. 0. 0. 0. 2. 0. 0. 2. 0. 0. 2. 2.]\n",
      "Batch 401 :\n",
      " [2. 0. 2. 0. 2. 0. 2. 2. 2. 0. 2. 0. 2. 0. 0. 0. 0. 2. 0. 2.]\n",
      "Batch 601 :\n",
      " [0. 0. 2. 2. 0. 2. 2. 0. 2. 2. 2. 0. 2. 0. 2. 2. 0. 2. 0. 0.]\n",
      "Batch 801 :\n",
      " [2. 2. 2. 2. 2. 0. 2. 0. 2. 2. 0. 2. 2. 0. 0. 2. 2. 0. 0. 2.]\n",
      "time: 0.15825676918029785\n"
     ]
    }
   ],
   "source": [
    "key = random.PRNGKey(41)\n",
    "x = jnp.ones((100))  # Input data\n",
    "\n",
    "p = 0.5\n",
    "\n",
    "import time\n",
    "s = time.time()\n",
    "for i in range(1000):  # batches\n",
    "    x_dropout, key = dropout(x, key, p, True)\n",
    "    if i % 200 == 0:\n",
    "        print(f\"Batch {i + 1} :\\n\", x_dropout[::5])\n",
    "\n",
    "print(f'time: {time.time() - s}')"
   ]
  },
  {
   "cell_type": "markdown",
   "id": "9a435295-a10e-4569-8f89-14f46d157070",
   "metadata": {},
   "source": [
    "and if you want to use jit, you should make the 'train' parameter a static parameter, or the output will not be fixed due to this code: \n",
    "\n",
    "```python\n",
    "if not train:\n",
    "    return x, key\n",
    "```"
   ]
  },
  {
   "cell_type": "code",
   "execution_count": 6,
   "id": "69576128-6a01-40b3-9fdc-f2d3964377e8",
   "metadata": {},
   "outputs": [],
   "source": [
    "dropout = jit(dropout, static_argnames=('train'))  # use jit here"
   ]
  },
  {
   "cell_type": "code",
   "execution_count": 14,
   "id": "c41c2f9b-1839-4026-866c-780dcd72875b",
   "metadata": {},
   "outputs": [
    {
     "name": "stdout",
     "output_type": "stream",
     "text": [
      "Batch 1 :\n",
      " [0. 0. 0. 0. 2. 0. 2. 2. 0. 0. 0. 2. 2. 0. 0. 0. 0. 0. 0. 0.]\n",
      "Batch 201 :\n",
      " [0. 0. 2. 0. 2. 0. 2. 0. 2. 0. 0. 0. 2. 0. 0. 2. 0. 0. 2. 2.]\n",
      "Batch 401 :\n",
      " [2. 0. 2. 0. 2. 0. 2. 2. 2. 0. 2. 0. 2. 0. 0. 0. 0. 2. 0. 2.]\n",
      "Batch 601 :\n",
      " [0. 0. 2. 2. 0. 2. 2. 0. 2. 2. 2. 0. 2. 0. 2. 2. 0. 2. 0. 0.]\n",
      "Batch 801 :\n",
      " [2. 2. 2. 2. 2. 0. 2. 0. 2. 2. 0. 2. 2. 0. 0. 2. 2. 0. 0. 2.]\n",
      "time with JIT: 0.014821052551269531\n"
     ]
    }
   ],
   "source": [
    "key = random.PRNGKey(41)\n",
    "x = jnp.ones((100))  # Input data\n",
    "\n",
    "p = 0.5\n",
    "\n",
    "import time\n",
    "s = time.time()\n",
    "for i in range(1000):  # batches\n",
    "    x_dropout, key = dropout(x, key, p, True)\n",
    "    if i % 200 == 0:\n",
    "        print(f\"Batch {i + 1} :\\n\", x_dropout[::5])\n",
    "\n",
    "print(f'time with JIT: {time.time() - s}')"
   ]
  }
 ],
 "metadata": {
  "kernelspec": {
   "display_name": "Python 3 (ipykernel)",
   "language": "python",
   "name": "python3"
  },
  "language_info": {
   "codemirror_mode": {
    "name": "ipython",
    "version": 3
   },
   "file_extension": ".py",
   "mimetype": "text/x-python",
   "name": "python",
   "nbconvert_exporter": "python",
   "pygments_lexer": "ipython3",
   "version": "3.13.2+"
  }
 },
 "nbformat": 4,
 "nbformat_minor": 5
}
