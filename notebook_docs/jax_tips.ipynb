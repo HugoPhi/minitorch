{
 "cells": [
  {
   "cell_type": "markdown",
   "id": "36b64b4e-88a1-4373-885d-4e6e395285f2",
   "metadata": {},
   "source": [
    "# How to use Jax tools to accelerate your program?\n",
    "\n",
    "Jax provides many powerful tools for user to optimize their programs by Parallelize, JIT, Multi-thread on CPU, GPU usage & TPU usage. I will introduce some simple cases to make you understand how to use it.  "
   ]
  },
  {
   "cell_type": "markdown",
   "id": "c773e5a2-1476-4d58-88d9-e38ddd7fe301",
   "metadata": {},
   "source": [
    "## # JIT: parallel for matrix operations  "
   ]
  },
  {
   "cell_type": "code",
   "execution_count": 1,
   "id": "c995903c-afde-46fe-b767-25f0bcec8d23",
   "metadata": {},
   "outputs": [],
   "source": [
    "import jax.numpy as jnp \n",
    "from jax import random, jit"
   ]
  },
  {
   "cell_type": "code",
   "execution_count": 2,
   "id": "faf77fae-3dad-4d47-904f-6d379e33dbc3",
   "metadata": {},
   "outputs": [],
   "source": [
    "key = random.PRNGKey(42)\n",
    "\n",
    "X = random.normal(key, (1000000, 200))\n",
    "W = random.normal(key, (200, 100))\n",
    "\n",
    "def sum(x, w):\n",
    "    return jnp.sum(x @ w, axis=1)"
   ]
  },
  {
   "cell_type": "code",
   "execution_count": 3,
   "id": "cf184da4-2b5f-489c-abe6-c61fbc91097e",
   "metadata": {},
   "outputs": [
    {
     "name": "stdout",
     "output_type": "stream",
     "text": [
      "time without jit: 0.08606386184692383 s\n",
      "time with jit No.1: 0.12407374382019043 s\n",
      "time with jit No.2: 0.00022339820861816406 s\n",
      "time with jit No.3: 0.00013685226440429688 s\n"
     ]
    }
   ],
   "source": [
    "import time\n",
    "\n",
    "s = time.time()\n",
    "res = sum(X, W)\n",
    "print(f'time without jit: {time.time() - s} s')\n",
    "\n",
    "sum = jit(sum)  # JIT\n",
    "\n",
    "s = time.time()\n",
    "res_jit_1 = sum(X, W)\n",
    "print(f'time with jit No.1: {time.time() - s} s')\n",
    "\n",
    "s = time.time()\n",
    "res_jit_2 = sum(X, W)\n",
    "print(f'time with jit No.2: {time.time() - s} s')\n",
    "\n",
    "s = time.time()\n",
    "res_jit_3 = sum(X, W)\n",
    "print(f'time with jit No.3: {time.time() - s} s')\n",
    "\n",
    "assert (res == res_jit_1).all() and (res == res_jit_2).all() and (res == res_jit_3).all()"
   ]
  },
  {
   "cell_type": "markdown",
   "id": "f2a48085-2981-4cc3-9224-644acf5b6c2e",
   "metadata": {},
   "source": [
    "## # JIT: match small scale casese\n",
    "\n",
    "This means the static parameters you used in funtion can be contained by a small countable set. Because Jax will not recompile if a static parameter is compiled once. For example, a function `mult(X: jnp.ndarray, Y: jnp.ndarray, name: str)`, where `name` is a static parameter. We call this function in the order of: \n",
    "\n",
    "|   name   | same name's Nth call|\n",
    "|  :----:  |  :----:             |\n",
    "|1|1|\n",
    "|1|2|\n",
    "|2|1|\n",
    "|2|2|\n",
    "|1|3|\n",
    "|3|1|\n",
    "|3|2|\n",
    "|2|3|\n",
    "|3|3|\n",
    "\n",
    "- condition 1: do not recompile\n",
    "    - (1, 1) == (1, 3) >> (1, 2)\n",
    "    - (2, 1) == (2, 3) >> (2, 2)\n",
    "    - (3, 1) == (3, 3) >> (3, 2)\n",
    "- condition 2: do recompile\n",
    "    - (1, 1) >> (1, 3) == (1, 2)\n",
    "    - (2, 1) >> (2, 3) == (2, 2)\n",
    "    - (3, 1) >> (3, 3) == (3, 2)"
   ]
  },
  {
   "cell_type": "code",
   "execution_count": 4,
   "id": "db09f4c4-1d82-4d79-a2c7-2de05251271b",
   "metadata": {},
   "outputs": [],
   "source": [
    "def mult(X, Y, name='1'):\n",
    "    if name == '1':\n",
    "        return 1 * X @ Y\n",
    "    elif name == '2':\n",
    "        return 2 * X @ Y\n",
    "    elif name == '3':\n",
    "        return 3 * X @ Y\n",
    "    else:\n",
    "        raise ValueError('please input one of \"1\", \"2\", \"3\"')"
   ]
  },
  {
   "cell_type": "code",
   "execution_count": 5,
   "id": "4b8338ab-7177-43db-8987-b2f0d55de8b2",
   "metadata": {},
   "outputs": [
    {
     "name": "stdout",
     "output_type": "stream",
     "text": [
      "1: time without jit: 0.012926101684570312 s\n",
      "2: time without jit: 0.013566732406616211 s\n",
      "3: time without jit: 0.013772249221801758 s\n",
      "(1, 1): 0.012732982635498047 s\n",
      "(1, 2): 2.8848648071289062e-05 s\n",
      "(2, 1): 0.02155590057373047 s\n",
      "(2, 2): 2.574920654296875e-05 s\n",
      "(1, 3): 1.7642974853515625e-05 s\n",
      "(3, 1): 0.018445253372192383 s\n",
      "(3, 2): 3.409385681152344e-05 s\n",
      "(2, 3): 1.1920928955078125e-05 s\n",
      "(3, 3): 6.198883056640625e-06 s\n"
     ]
    }
   ],
   "source": [
    "import time\n",
    "\n",
    "def shiyan2(name, nth_call):\n",
    "    s = time.time()\n",
    "    _ = mult(X, W, f'{name}')\n",
    "    print(f'({name}, {nth_call}): {time.time() - s} s')\n",
    "   \n",
    "\n",
    "s = time.time()\n",
    "res1 = mult(X, W, '1')\n",
    "print(f'1: time without jit: {time.time() - s} s')\n",
    "res2 = mult(X, W, '2')\n",
    "print(f'2: time without jit: {time.time() - s} s')\n",
    "res3 = mult(X, W, '3')\n",
    "print(f'3: time without jit: {time.time() - s} s')\n",
    "\n",
    "mult = jit(mult, static_argnames='name')  # JIT\n",
    "\n",
    "shiyan2(1, 1)\n",
    "shiyan2(1, 2)\n",
    "shiyan2(2, 1)\n",
    "shiyan2(2, 2)\n",
    "shiyan2(1, 3)\n",
    "shiyan2(3, 1)\n",
    "shiyan2(3, 2)\n",
    "shiyan2(2, 3)\n",
    "shiyan2(3, 3)"
   ]
  },
  {
   "cell_type": "code",
   "execution_count": 6,
   "id": "bec73ea8-9e75-4d45-a73d-fcb87c9a70a6",
   "metadata": {},
   "outputs": [
    {
     "name": "stdout",
     "output_type": "stream",
     "text": [
      "f1: <function func1 at 0x70a8500979c0>, f2: <function func1.<locals>.func2 at 0x70a850097d80>\n",
      "f1: <function func1 at 0x70a8500979c0>, f2: <function func1.<locals>.func2 at 0x70a850097e20>\n",
      "f1: <function func1 at 0x70a8500979c0>, f2: <function func1.<locals>.func2 at 0x70a850097ce0>\n",
      "f1: <function func1 at 0x70a8500979c0>, f2: <function func1.<locals>.func2 at 0x70a850097ce0>\n",
      "f1: <function func1 at 0x70a8500979c0>, f2: <function func1.<locals>.func2 at 0x70a850097ce0>\n"
     ]
    }
   ],
   "source": [
    "def func1():\n",
    "\n",
    "    def func2():\n",
    "        pass\n",
    "\n",
    "    return func2\n",
    "\n",
    "for _ in range(5):\n",
    "    print(f'f1: {func1}, f2: {func1()}')"
   ]
  },
  {
   "cell_type": "markdown",
   "id": "4e38a343-067f-4a1b-b2a0-80ba2b0ecb6f",
   "metadata": {},
   "source": [
    "## # jax.vmap: vectorize operations"
   ]
  },
  {
   "cell_type": "markdown",
   "id": "55cec152-8d5c-4e6f-9f1e-34358e13cc2c",
   "metadata": {},
   "source": [
    "### 1. Batch Level\n",
    "\n",
    "Do operation along shape '0' (batch size dim). This case can be represented as: \n",
    "\n",
    "Given:   \n",
    "\n",
    "$$\n",
    "f: (shape_1), (shape_2), \\dots \\rightarrow (shape_3)\n",
    "$$  \n",
    "\n",
    "What to do:    \n",
    "\n",
    "$$\n",
    "f_{new}: (B, shape_1), (B, shape_2), \\dots \\rightarrow (B, shape_3)\n",
    "$$\n",
    "\n",
    "where $B$ is batch size, $n$ is number of parameters for $f$."
   ]
  },
  {
   "cell_type": "code",
   "execution_count": 7,
   "id": "15ed0088-ca35-41a0-8583-08af51e37926",
   "metadata": {},
   "outputs": [],
   "source": [
    "from jax import vmap"
   ]
  },
  {
   "cell_type": "code",
   "execution_count": 8,
   "id": "69ffb2b6-a60e-41fd-a50e-da05641c6b5b",
   "metadata": {},
   "outputs": [
    {
     "name": "stdout",
     "output_type": "stream",
     "text": [
      "time without vmap: 1.746204137802124\n",
      "time with vmap, without JIT: 0.023752450942993164\n",
      "time with vmap, with JIT No.1: 0.01141047477722168\n",
      "time with vmap, with JIT No.2: 6.389617919921875e-05\n"
     ]
    }
   ],
   "source": [
    "X = jnp.ones((100, 4, 3))\n",
    "Y = jnp.ones((100, 3, 2))\n",
    "\n",
    "def mult4loop(x, y):\n",
    "    res = jnp.zeros((x.shape[0], x.shape[1], y.shape[2]))\n",
    "    for i, (yy, xx) in enumerate(zip(x, y)):\n",
    "        res = res.at[i].set(\n",
    "            yy @ xx\n",
    "        )\n",
    "\n",
    "    return res\n",
    "\n",
    "\n",
    "def mult(x, y):\n",
    "    return x @ y\n",
    "\n",
    "s = time.time()\n",
    "res = mult4loop(X, Y)\n",
    "print(f'time without vmap: {time.time() - s}')\n",
    "\n",
    "s = time.time()\n",
    "res1 = vmap(mult, in_axes=(0, 0))(X, Y)  # use vmap\n",
    "print(f'time with vmap, without JIT: {time.time() - s}')\n",
    "\n",
    "jit_vmap_mult = jit(vmap(mult, in_axes=(0, 0)))  # use JIT\n",
    "\n",
    "s = time.time()\n",
    "res21 = jit_vmap_mult(X, Y)\n",
    "print(f'time with vmap, with JIT No.1: {time.time() - s}')\n",
    "\n",
    "s = time.time()\n",
    "res22 = jit_vmap_mult(X, Y)\n",
    "print(f'time with vmap, with JIT No.2: {time.time() - s}')\n",
    "\n",
    "assert (res == res1).all() and (res == res21).all() and (res == res22).all()"
   ]
  },
  {
   "cell_type": "markdown",
   "id": "d3648753-32e1-4f88-a0a7-bc81c0fedaa3",
   "metadata": {},
   "source": [
    "### 2. Outer Product\n",
    "\n",
    "This problem can be represented as:  \n",
    "\n",
    "Given:   \n",
    "\n",
    "$$\n",
    "f: (shape_1), (shape_2), \\dots \\rightarrow (shape_3)\n",
    "$$\n",
    "\n",
    "What to do:  \n",
    "\n",
    "$$\n",
    "f_{new}: (B_1, shape_1), (B_2, shape_2), \\dots \\rightarrow (B_1, B_2, \\dots, shape_3)\n",
    "$$"
   ]
  },
  {
   "cell_type": "code",
   "execution_count": 9,
   "id": "5f87999a-1aa3-4f4f-8554-a4d6135c8e87",
   "metadata": {},
   "outputs": [
    {
     "name": "stdout",
     "output_type": "stream",
     "text": [
      "time without vmap: 9.08353042602539\n",
      "time with vmap, without JIT: 0.038193702697753906\n",
      "time with vmap, with JIT No.1: 0.01571202278137207\n",
      "time with vmap, with JIT No.2: 8.0108642578125e-05\n"
     ]
    }
   ],
   "source": [
    "X = jnp.ones((27, 5, 4))\n",
    "Y = jnp.ones((28, 4, 3))\n",
    "Z = jnp.ones((29, 3, 2))\n",
    "# X, Y, Z -> (27, 28, 29, 5, 2)\n",
    "\n",
    "def mult4loop(x, y, z):\n",
    "    res = jnp.zeros((x.shape[0], y.shape[0], z.shape[0], x.shape[1], z.shape[2]))\n",
    "    for ix, xx in enumerate(x):\n",
    "        for iy, yy in enumerate(y):\n",
    "            for iz, zz in enumerate(z):\n",
    "                res = res.at[ix, iy, iz].set(\n",
    "                    xx @ yy @ zz\n",
    "                )\n",
    "\n",
    "    return res\n",
    "\n",
    "def mult(x, y, z):\n",
    "    return x @ y @ z\n",
    "\n",
    "mult_vmap = vmap(\n",
    "                vmap(\n",
    "                    vmap(\n",
    "                        mult, in_axes=(None, None, 0)\n",
    "                    ), in_axes=(None, 0, None),\n",
    "                ), in_axes=(0, None, None)\n",
    "            )\n",
    "\n",
    "jit_vmap_mult = jit(mult_vmap)\n",
    "\n",
    "s = time.time()\n",
    "res = mult4loop(X, Y, Z)\n",
    "print(f'time without vmap: {time.time() - s}')\n",
    "\n",
    "s = time.time()\n",
    "res1 = mult_vmap(X, Y, Z)  # use vmap\n",
    "print(f'time with vmap, without JIT: {time.time() - s}')\n",
    "\n",
    "s = time.time()\n",
    "res21 = jit_vmap_mult(X, Y, Z)\n",
    "print(f'time with vmap, with JIT No.1: {time.time() - s}')\n",
    "\n",
    "s = time.time()\n",
    "res22 = jit_vmap_mult(X, Y, Z)\n",
    "print(f'time with vmap, with JIT No.2: {time.time() - s}')\n",
    "\n",
    "assert (res == res1).all() and (res == res21).all() and (res == res22).all()"
   ]
  },
  {
   "cell_type": "markdown",
   "id": "981a74a0-ed26-4cf2-87a0-abd9b2e2b292",
   "metadata": {},
   "source": [
    "### 3. Mixture\n",
    "\n",
    "This is about how to convert a loop into vmap function. I think you can learn something from last two cases, that is if you want to make two loop run parallely, you can set `in_axis=(0, 0)`, and if you want to make them have the order of loop in and out, you can use `in_axis=(None, 0)` & `in_axis=(0, None)`, where former is inner loop, latter is outra loop. "
   ]
  },
  {
   "cell_type": "code",
   "execution_count": 10,
   "id": "3639dabd-2c2c-4299-bd5b-638830a96870",
   "metadata": {},
   "outputs": [
    {
     "name": "stdout",
     "output_type": "stream",
     "text": [
      "time without vmap: 55.275911808013916\n",
      "time with vmap, without JIT: 0.14800119400024414\n",
      "time with vmap, with JIT No.1: 0.0664219856262207\n",
      "time with vmap, with JIT No.2: 8.153915405273438e-05\n"
     ]
    }
   ],
   "source": [
    "X = jnp.ones((7, 5, 4))\n",
    "Y = jnp.ones((8, 4, 3))\n",
    "Z = jnp.ones((10, 3, 2))\n",
    "R = jnp.ones((10, 2, 2))\n",
    "S = jnp.ones((12, 2, 2))\n",
    "T = jnp.ones((11, 2, 2))\n",
    "U = jnp.ones((11, 2, 2))\n",
    "V = jnp.ones((11, 2, 2))\n",
    "\n",
    "def mult4loop(x, y, z, r, s, t, u, v):\n",
    "    res = jnp.zeros((\n",
    "        x.shape[0],  # x \n",
    "        y.shape[0],  # y\n",
    "        z.shape[0],  # z, r\n",
    "        s.shape[0],  # s\n",
    "        t.shape[0],  # t, u, v\n",
    "        x.shape[1], v.shape[2]))\n",
    "    \n",
    "    for ix, xx in enumerate(x):\n",
    "        for iy, yy in enumerate(y):\n",
    "            for iz, (zz, rr) in enumerate(zip(z, r)):\n",
    "                for iS, ss in enumerate(s):\n",
    "                    for it, (tt, uu, vv) in enumerate(zip(t, u, v)):\n",
    "                        res = res.at[ix, iy, iz, iS, it].set(\n",
    "                            xx @ yy @ zz @ rr @ ss @ tt @ uu @ vv\n",
    "                        )\n",
    "\n",
    "    return res\n",
    "\n",
    "def mult(x, y, z, r, s, t, u, v):\n",
    "    return x @ y @ z @ r @ s @ t @ u @ v\n",
    "\n",
    "mult_vmap = vmap(\n",
    "                vmap(\n",
    "                    vmap(\n",
    "                        vmap(\n",
    "                            vmap(\n",
    "                                mult, in_axes=(None, None, None, None, None,    0,    0,    0)\n",
    "                            ), in_axes=       (None, None, None, None,    0, None, None, None)\n",
    "                        ), in_axes=           (None, None,    0,    0, None, None, None, None)\n",
    "                    ), in_axes=               (None,    0, None, None, None, None, None, None)\n",
    "                ), in_axes=                   (   0, None, None, None, None, None, None, None)\n",
    "            )\n",
    "\n",
    "jit_vmap_mult = jit(mult_vmap)\n",
    "\n",
    "s = time.time()\n",
    "res = mult4loop(X, Y, Z, R, S, T, U, V)\n",
    "print(f'time without vmap: {time.time() - s}')\n",
    "\n",
    "s = time.time()\n",
    "res1 = mult_vmap(X, Y, Z, R, S, T, U, V)  # use vmap\n",
    "print(f'time with vmap, without JIT: {time.time() - s}')\n",
    "\n",
    "s = time.time()\n",
    "res21 = jit_vmap_mult(X, Y, Z, R, S, T, U, V)\n",
    "print(f'time with vmap, with JIT No.1: {time.time() - s}')\n",
    "\n",
    "s = time.time()\n",
    "res22 = jit_vmap_mult(X, Y, Z, R, S, T, U, V)\n",
    "print(f'time with vmap, with JIT No.2: {time.time() - s}')\n",
    "\n",
    "assert (res == res1).all() and (res == res21).all() and (res == res22).all()"
   ]
  },
  {
   "cell_type": "markdown",
   "id": "51331251-4426-48ca-97db-1bc1793dd3aa",
   "metadata": {},
   "source": [
    "## # jax.tree: powerful dict tool\n",
    "\n",
    "This tool is very useful while initialing parameters in this framework, see [Initer](plugins/minitorch/initer.py)."
   ]
  },
  {
   "cell_type": "code",
   "execution_count": 11,
   "id": "b850817e-98c1-4495-9c00-b3e1beb0316b",
   "metadata": {},
   "outputs": [],
   "source": [
    "from jax import tree"
   ]
  },
  {
   "cell_type": "code",
   "execution_count": 12,
   "id": "8393ea80-e1c4-4faf-8a79-26009b978468",
   "metadata": {},
   "outputs": [
    {
     "name": "stdout",
     "output_type": "stream",
     "text": [
      "{\n",
      "    \"fc:1\": {\n",
      "        \"b\": 8,\n",
      "        \"w\": 8\n",
      "    },\n",
      "    \"fc:2\": {\n",
      "        \"b\": 8,\n",
      "        \"w\": 8\n",
      "    }\n",
      "}\n"
     ]
    }
   ],
   "source": [
    "X = {\n",
    "    'fc:1': {\n",
    "        'w': 1,\n",
    "        'b': 1,\n",
    "    },\n",
    "    'fc:2': {\n",
    "        'w': 1,\n",
    "        'b': 1,\n",
    "    }\n",
    "}\n",
    "\n",
    "Y = {\n",
    "    'fc:1': {\n",
    "        'w': 2,\n",
    "        'b': 2,\n",
    "    },\n",
    "    'fc:2': {\n",
    "        'w': 2,\n",
    "        'b': 2,\n",
    "    }\n",
    "}\n",
    "\n",
    "res = tree.map(lambda x, y: 2*x + 3*y, X, Y)\n",
    "import json\n",
    "print(json.dumps(res, indent=4))"
   ]
  },
  {
   "cell_type": "code",
   "execution_count": 13,
   "id": "411b2177-f010-4c47-b4b1-0fc8f2768ec7",
   "metadata": {},
   "outputs": [
    {
     "name": "stdout",
     "output_type": "stream",
     "text": [
      "{\n",
      "    \"fc:1\": {\n",
      "        \"b\": [\n",
      "            2,\n",
      "            1\n",
      "        ],\n",
      "        \"w\": [\n",
      "            2,\n",
      "            1\n",
      "        ]\n",
      "    },\n",
      "    \"fc:2\": {\n",
      "        \"b\": [\n",
      "            2,\n",
      "            1\n",
      "        ],\n",
      "        \"w\": [\n",
      "            2,\n",
      "            1\n",
      "        ]\n",
      "    }\n",
      "}\n"
     ]
    }
   ],
   "source": [
    "X = {\n",
    "    'fc:1': {\n",
    "        'w': 1,\n",
    "        'b': 1,\n",
    "    },\n",
    "    'fc:2': {\n",
    "        'w': 1,\n",
    "        'b': 1,\n",
    "    }\n",
    "}\n",
    "\n",
    "Y = {\n",
    "    'fc:1': {\n",
    "        'w': 2,\n",
    "        'b': 2,\n",
    "    },\n",
    "    'fc:2': {\n",
    "        'w': 2,\n",
    "        'b': 2,\n",
    "    }\n",
    "}\n",
    "\n",
    "def swap(x, y):\n",
    "    return y, x\n",
    "\n",
    "res = tree.map(swap, X, Y)\n",
    "print(json.dumps(res, indent=4))"
   ]
  },
  {
   "cell_type": "markdown",
   "id": "42686703-09d6-4578-8e0a-03af44d86e6a",
   "metadata": {},
   "source": [
    "if you want to get two tree form last case, you should convert inner without use pytree iterm & then decode it: "
   ]
  },
  {
   "cell_type": "code",
   "execution_count": 14,
   "id": "3037606b-f078-49b4-8b91-d607f687834d",
   "metadata": {},
   "outputs": [
    {
     "name": "stdout",
     "output_type": "stream",
     "text": [
      "{'fc:1': {'b': Array([2, 1], dtype=int32), 'w': Array([2, 1], dtype=int32)}, 'fc:2': {'b': Array([2, 1], dtype=int32), 'w': Array([2, 1], dtype=int32)}}\n",
      "res1 is: {'fc:1': {'b': Array(2, dtype=int32), 'w': Array(2, dtype=int32)}, 'fc:2': {'b': Array(2, dtype=int32), 'w': Array(2, dtype=int32)}}\n",
      "res2 is: {'fc:1': {'b': Array(1, dtype=int32), 'w': Array(1, dtype=int32)}, 'fc:2': {'b': Array(1, dtype=int32), 'w': Array(1, dtype=int32)}}\n"
     ]
    }
   ],
   "source": [
    "import jax.numpy as jnp\n",
    "\n",
    "def swap(x, y):\n",
    "    return jnp.array([y, x])\n",
    "\n",
    "res = tree.map(swap, X, Y)\n",
    "print(res)\n",
    "\n",
    "res1 = tree.map(lambda x: x[0], res)\n",
    "res2 = tree.map(lambda x: x[1], res)\n",
    "\n",
    "print(f'res1 is: {res1}')\n",
    "print(f'res2 is: {res2}')"
   ]
  },
  {
   "cell_type": "markdown",
   "id": "b7375ed6-dee1-416e-a6d9-a81247f4ba2f",
   "metadata": {},
   "source": [
    "## # jax.lax.scan: Iter Functool\n",
    "\n",
    "see [knn_on_cifar10](https://github.com/HugoPhi/jaxdls/blob/main/knn_cifar10.ipynb) & [lstm cell](https://github.com/HugoPhi/jaxdls/blob/main/plugins/minitorch/nn/JaxOptimized/rnncell.py)."
   ]
  }
 ],
 "metadata": {
  "kernelspec": {
   "display_name": "Python 3 (ipykernel)",
   "language": "python",
   "name": "python3"
  },
  "language_info": {
   "codemirror_mode": {
    "name": "ipython",
    "version": 3
   },
   "file_extension": ".py",
   "mimetype": "text/x-python",
   "name": "python",
   "nbconvert_exporter": "python",
   "pygments_lexer": "ipython3",
   "version": "3.13.2+"
  }
 },
 "nbformat": 4,
 "nbformat_minor": 5
}
