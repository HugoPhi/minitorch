{
 "cells": [
  {
   "cell_type": "markdown",
   "id": "384a6634-3bd0-4504-a8c1-9fa91c1c56bb",
   "metadata": {},
   "source": [
    "# Kaiming Initialzation\n",
    "\n",
    "## # What we what?\n",
    "\n",
    "$$\n",
    "Var(Y_t) = Var(Y_{t-1})\n",
    "$$\n",
    "\n",
    "where $t$ is the number of layers and $Y_t$ is the output of layer $t$.\n",
    "\n",
    "## # How to do?\n",
    "\n",
    "We assume that the shape of our nn: `l0 -> l1 -> l2 -> ...`.  \n",
    "So we have: \n",
    "\n",
    "$$\n",
    "Y_t = W_t X_t + b_t\n",
    "$$\n",
    "\n",
    "because $b_t$ is a constant, we have: \n",
    "\n",
    "$$\n",
    "Var(Y_t) = Var(W_t X_t + b_t) = Var(W_t X_t)\n",
    "$$\n",
    "\n",
    "Here we let $w_t, x_t, y_t$ represent the numbers in $W_t, X_t, Y_t$. Now it comes:  \n",
    "\n",
    "$$\n",
    "Var(y_t) = Var(\\sum_{i=1}^{l_t} w_t^i x_t^i) = l_t Var(w_t x_t)\n",
    "$$\n",
    "\n",
    "if we assume that $\\mathbb{E}(w_t) = 0$, we have $\\mathbb{E}(w_t x_t) = 0$(beacuse $W_t$ & $X_t$ are iid.). \n",
    "\n",
    "then we can use formula of variance: \n",
    "\n",
    "$$\n",
    "Var(y_t) = l_t Var(w_t x_t) = l_t [\\mathbb{E}(w_t^2 x_t^2) - \\mathbb{E}^2(w_t x_t)] = l_t \\mathbb{E}(w_t^2 x_t^2)\n",
    "$$\n",
    "\n",
    "and we can know that $w_t$ & $x_t$ are iid, so $w_t^2$ & $x_t^2$ are iid.\n",
    "\n",
    "we get: \n",
    "\n",
    "$$\n",
    "Var(y_t) = l_t \\mathbb{E}(w_t^2) \\mathbb{E}(x_t^2) = l_t Var(w_t) \\mathbb{E}(x_t^2)\n",
    "$$\n",
    "\n",
    "now, our task is to compute $\\mathbb{E}(x_t^2)$ by $Var(y_t)$.\n",
    "\n",
    "we now that:\n",
    "\n",
    "$$\n",
    "x_t = f(y_{t-1})\n",
    "$$\n",
    "\n",
    "$f(\\cdot)$ here is activation function. We assume $f(\\cdot)$ is ReLu here. Then we assume that $\\mathbb{E}(y_{t-1}) = 0$. Now we can compute:  \n",
    "\n",
    "$$\n",
    "\\mathbb{E}(x_t^2) = \\int_{-\\infty}^{\\infty} ReLu^2(y_{t-1}) p(y_{t-1}) dy_{t-1} = \\int_{0}^{\\infty} y_{t-1}^2 p(y_{t-1}) dy_{t-1}\n",
    "$$\n",
    "\n",
    "and we assume that $p(x)$ is even, such as $\\mathcal{N}$ & $\\mathcal{D}$, we can get: \n",
    "\n",
    "$$\n",
    "\\mathbb{E}(x_t^2) = {1\\over 2} \\int_{-\\infty}^{\\infty} (y_{t-1}-0)^2 p(y_{t-1}) dy_{t-1} = {1\\over 2} Var(y_{t-1})\n",
    "\\Rightarrow Var(y_t) = l_t Var(w_t) {1\\over 2} Var(y_{t-1})\n",
    "$$\n",
    "\n",
    "so to make our assumption: \"$\\mathbb{E}(y_{t-1}) = 0$\" fit to all, we should make: \n",
    "\n",
    "$$\n",
    "Var(y_t) = Var(y_{t-1}) = \\dots = Var(x_{0})\n",
    "$$\n",
    "\n",
    "so, here we go: \n",
    "\n",
    "$$\n",
    "l_t Var(w_t) {1\\over 2} = 1 \\Rightarrow Var(w_t) = {2 \\over l_t}\n",
    "$$\n",
    "\n",
    "and if we use Leaky-Relu, the conclusion will be: \n",
    "\n",
    "$$\n",
    "Var(w_t) = {2 \\over (1 + a^2) l_t}\n",
    "$$\n",
    "\n",
    "do not forget we assume that: \n",
    "- Distribution of $y_t$ is even, and $x_{0}$ zero-mean.\n",
    "- $w_{t}$ are zero-mean.  \n",
    "- activate function is ReLU or Leaky-ReLU\n",
    "\n",
    "so we always make:\n",
    "\n",
    "$$\n",
    "w_t \\sim \\mathcal{N}(0, {2 \\over l_t})\n",
    "$$\n",
    "\n",
    "# Reference \n",
    "\n",
    "[1] [Delving Deep into Rectifiers (He et al., 2015)](https://arxiv.org/abs/1502.01852)"
   ]
  },
  {
   "cell_type": "code",
   "execution_count": 1,
   "id": "79c32355-15c3-48c5-b015-5b5646cd896d",
   "metadata": {},
   "outputs": [],
   "source": [
    "import jax.numpy as jnp\n",
    "import numpy as np\n",
    "from jax import random, grad, vmap, jit\n",
    "\n",
    "key = random.PRNGKey(0)\n",
    "\n",
    "np.set_printoptions(suppress=True, formatter={'float_kind': '{:8.2f}'.format})\n",
    "\n",
    "# number of layers\n",
    "num_layer = 30"
   ]
  },
  {
   "cell_type": "code",
   "execution_count": 2,
   "id": "6caf3ceb-4444-474a-a85a-21ae2f99e7d1",
   "metadata": {},
   "outputs": [
    {
     "name": "stdout",
     "output_type": "stream",
     "text": [
      "original : \n",
      "[[    1.62     2.03    -0.43]\n",
      " [   -0.08     0.18    -0.97]\n",
      " [   -0.50     0.49     0.66]\n",
      " ...\n",
      " [    0.22    -0.35    -0.29]\n",
      " [    0.48     0.46    -0.48]\n",
      " [   -0.05    -0.21    -0.42]]\n"
     ]
    }
   ],
   "source": [
    "ws = [random.normal(key, (3, 3)) * jnp.sqrt(2 / 3) for _ in range(num_layer)]\n",
    "bs = [jnp.zeros(1) for _ in range(num_layer)]\n",
    "\n",
    "X = random.normal(key, (1000, 3))\n",
    "res = X\n",
    "for w, b in zip(ws, bs):\n",
    "    res = res @ w + b\n",
    "    res = jnp.maximum(0, res)\n",
    "\n",
    "print(f'original : \\n{X}')"
   ]
  },
  {
   "cell_type": "code",
   "execution_count": 3,
   "id": "e5ff14f1-7f16-449a-90c8-2c7de5bbd809",
   "metadata": {},
   "outputs": [
    {
     "name": "stdout",
     "output_type": "stream",
     "text": [
      "use kaiming: \n",
      "[[  839.02  1280.97     0.00]\n",
      " [  114.80   175.27     0.00]\n",
      " [    0.00     0.00     0.00]\n",
      " ...\n",
      " [  169.26   258.41     0.00]\n",
      " [  313.43   478.53     0.00]\n",
      " [   46.43    70.89     0.00]]\n"
     ]
    }
   ],
   "source": [
    "print(f'use kaiming: \\n{res}')"
   ]
  },
  {
   "cell_type": "code",
   "execution_count": 4,
   "id": "4006af33-c3ec-4013-8823-4b00972670e7",
   "metadata": {},
   "outputs": [
    {
     "name": "stdout",
     "output_type": "stream",
     "text": [
      "not use kaiming: \n",
      "[[367400.50 560927.81     0.00]\n",
      " [50271.13 76751.32     0.00]\n",
      " [    0.00     0.00     0.00]\n",
      " ...\n",
      " [74116.68 113157.45     0.00]\n",
      " [137249.80 209545.78     0.00]\n",
      " [20330.89 31040.14     0.00]]\n"
     ]
    }
   ],
   "source": [
    "ws = [random.normal(key, (3, 3)) for _ in range(num_layer)]\n",
    "res = X\n",
    "for w, b in zip(ws, bs):\n",
    "    res = res @ w + b\n",
    "    res = jnp.maximum(0, res)\n",
    "    \n",
    "print(f'not use kaiming: \\n{res}')"
   ]
  }
 ],
 "metadata": {
  "kernelspec": {
   "display_name": "Python 3 (ipykernel)",
   "language": "python",
   "name": "python3"
  },
  "language_info": {
   "codemirror_mode": {
    "name": "ipython",
    "version": 3
   },
   "file_extension": ".py",
   "mimetype": "text/x-python",
   "name": "python",
   "nbconvert_exporter": "python",
   "pygments_lexer": "ipython3",
   "version": "3.13.2+"
  }
 },
 "nbformat": 4,
 "nbformat_minor": 5
}
