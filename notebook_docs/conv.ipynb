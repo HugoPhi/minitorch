{
 "cells": [
  {
   "cell_type": "markdown",
   "id": "b0041e5c-e269-46e3-85b2-bbe7f017b44a",
   "metadata": {},
   "source": [
    "# Difference between Conv2d Operation by python loop and by **jax.lax**."
   ]
  },
  {
   "cell_type": "code",
   "execution_count": 1,
   "id": "96d0aa37-5f2f-406d-8b0b-4766bcdff7fd",
   "metadata": {},
   "outputs": [],
   "source": [
    "import jax.numpy as jnp\n",
    "from jax import random, jit, vmap, lax\n",
    "\n",
    "class RawVersion:\n",
    "    @staticmethod\n",
    "    def conv2d(x, w, b, padding=1):\n",
    "        bs, icl, he, wi = x.shape  # input graph -> batch_size x channel x height x width\n",
    "        ocl, icl, kh, kw = w.shape\n",
    "        he = (he + 2*padding - kh + 1)\n",
    "        wi = (wi + 2*padding - kw + 1)\n",
    "        \n",
    "        fgraph = jnp.zeros((bs, ocl, he, wi))  # feature graph\n",
    "    \n",
    "        # padding for x \n",
    "        pad_mat = (\n",
    "            (0, 0),\n",
    "            (0, 0),\n",
    "            (padding, padding),\n",
    "            (padding, padding)\n",
    "        )\n",
    "        \n",
    "        x_padded = jnp.pad(x, pad_mat, mode='constant', constant_values=0)\n",
    "    \n",
    "        for k in range(ocl):\n",
    "            for i in range(he):\n",
    "                for j in range(wi):\n",
    "                    fgraph.at[:, k, i, j].set(\n",
    "                        jnp.sum(x_padded[:, :, i:i + kh, j:j + kw] * w[k], axis=(1, 2, 3)) + b[k]\n",
    "                    )\n",
    "    \n",
    "        return fgraph\n",
    "\n",
    "    @staticmethod\n",
    "    def max_pooling2d(x, pool_size=(2, 2), stride=None):\n",
    "        if stride is None:\n",
    "            stride = pool_size\n",
    "        \n",
    "        batch_size, channels, height, width = x.shape\n",
    "        pool_height, pool_width = pool_size\n",
    "        stride_height, stride_width = stride\n",
    "        \n",
    "        output_height = (height - pool_height) // stride_height + 1\n",
    "        output_width = (width - pool_width) // stride_width + 1\n",
    "        \n",
    "        output_array = jnp.zeros((batch_size, channels, output_height, output_width))\n",
    "        \n",
    "        for n in range(batch_size):\n",
    "            for c in range(channels):\n",
    "                for i in range(output_height):\n",
    "                    for j in range(output_width):\n",
    "                        window = x[n, c, \n",
    "                                        i * stride_height:i * stride_height + pool_height, \n",
    "                                        j * stride_width :j * stride_width  + pool_width]\n",
    "                        output_array.at[n, c, i, j].set(\n",
    "                            jnp.max(window)\n",
    "                        )\n",
    "        \n",
    "        return output_array        \n",
    "\n",
    "\n",
    "class JaxOptimaized:\n",
    "    @staticmethod\n",
    "    def conv2d(x, w, b, padding=1):\n",
    "        dimension_numbers = ('NCHW', 'OIHW', 'NCHW')\n",
    "        padding_mode = ((padding, padding), (padding, padding))  # 高度和宽度方向的padding\n",
    "        \n",
    "        out = lax.conv_general_dilated(\n",
    "            lhs=x,\n",
    "            rhs=w,\n",
    "            window_strides=(1, 1),\n",
    "            padding=padding_mode,\n",
    "            lhs_dilation=(1, 1),\n",
    "            rhs_dilation=(1, 1),\n",
    "            dimension_numbers=dimension_numbers\n",
    "        )\n",
    "        \n",
    "        return out + b[None, :, None, None]\n",
    "\n",
    "    @staticmethod\n",
    "    def max_pooling2d(x, pool_size=(2, 2), stride=None):\n",
    "        if stride is None:\n",
    "            stride = pool_size\n",
    "        \n",
    "        return lax.reduce_window(\n",
    "            operand=x,\n",
    "            init_value=-jnp.inf,\n",
    "            computation=lax.max,\n",
    "            window_dimensions=(1, 1, pool_size[0], pool_size[1]),\n",
    "            window_strides=(1, 1, stride[0], stride[1]),\n",
    "            padding='VALID'\n",
    "        ) "
   ]
  },
  {
   "cell_type": "markdown",
   "id": "ed922a5d-e5cc-462f-be97-5d4b2e4d60c9",
   "metadata": {},
   "source": [
    "## # Optimized Version by jax.lax"
   ]
  },
  {
   "cell_type": "code",
   "execution_count": 2,
   "id": "2a3eea9f-2d05-4fc8-82a6-2a3b2cfecc85",
   "metadata": {},
   "outputs": [],
   "source": [
    "batch_size = 10000\n",
    "in_channel = 1\n",
    "out_channel = 10\n",
    "padding = 1\n",
    "\n",
    "X = jnp.ones((batch_size, in_channel, 28, 28))\n",
    "w = jnp.ones((out_channel, in_channel, 5, 5))\n",
    "b = jnp.ones((out_channel, ))\n",
    "\n",
    "bs, cl, he, wi = X.shape  # graph -> height x width\n",
    "kh, kw = (5, 5)\n",
    "he = (he + 2*padding - kh)\n",
    "wi = (wi + 2*padding - kh)"
   ]
  },
  {
   "cell_type": "code",
   "execution_count": 3,
   "id": "d7fed262-53a8-4fdb-a689-7464b4a30d46",
   "metadata": {},
   "outputs": [],
   "source": [
    "import time \n",
    "\n",
    "jit_conv2d = jit(lambda w, b: JaxOptimaized.conv2d(X, w, b, padding=2))\n",
    "jit_max_pooling2d = jit(JaxOptimaized.max_pooling2d)"
   ]
  },
  {
   "cell_type": "code",
   "execution_count": 7,
   "id": "83474386-3ace-4b67-8dc7-a323e262e468",
   "metadata": {},
   "outputs": [
    {
     "name": "stdout",
     "output_type": "stream",
     "text": [
      "(10000, 10, 28, 28)\n",
      "cost: 0.0040094852447509766\n"
     ]
    }
   ],
   "source": [
    "s = time.time()\n",
    "\n",
    "fgraph = jit_conv2d(w, b)\n",
    "\n",
    "print(fgraph.shape)\n",
    "print(f'cost: {time.time() - s}')"
   ]
  },
  {
   "cell_type": "code",
   "execution_count": 8,
   "id": "deb46aba-190f-4eaa-8df7-6e5a56807f94",
   "metadata": {},
   "outputs": [
    {
     "name": "stdout",
     "output_type": "stream",
     "text": [
      "(10000, 10, 14, 14)\n",
      "cost: 0.0002491474151611328\n"
     ]
    }
   ],
   "source": [
    "s = time.time()\n",
    "\n",
    "fgraph = jit_max_pooling2d(fgraph)\n",
    "\n",
    "print(fgraph.shape)\n",
    "print(f'cost: {time.time() - s}')"
   ]
  },
  {
   "cell_type": "markdown",
   "id": "04a0d538-a35a-4016-8f3c-52973a67065d",
   "metadata": {},
   "source": [
    "## # Raw Version"
   ]
  },
  {
   "cell_type": "code",
   "execution_count": 11,
   "id": "4eb6d449-d3a5-41ae-b0d9-f24eebb7a669",
   "metadata": {},
   "outputs": [],
   "source": [
    "batch_size = 10000\n",
    "in_channel = 1\n",
    "out_channel = 10\n",
    "padding = 1\n",
    "\n",
    "X = jnp.ones((batch_size, in_channel, 28, 28))\n",
    "w = jnp.ones((out_channel, in_channel, 5, 5))\n",
    "b = jnp.ones((out_channel, ))\n",
    "\n",
    "bs, cl, he, wi = X.shape  # graph -> height x width\n",
    "kh, kw = (5, 5)\n",
    "he = (he + 2*padding - kh)\n",
    "wi = (wi + 2*padding - kh)"
   ]
  },
  {
   "cell_type": "code",
   "execution_count": 12,
   "id": "cd03ba0b-213e-4beb-ac2b-d87cbd089179",
   "metadata": {},
   "outputs": [],
   "source": [
    "import time \n",
    "\n",
    "jit_conv2d = jit(lambda w, b: RawVersion.conv2d(X, w, b, padding=2))\n",
    "jit_max_pooling2d = jit(RawVersion.max_pooling2d)"
   ]
  },
  {
   "cell_type": "code",
   "execution_count": 14,
   "id": "b94070c3-8e09-4259-a78d-bcd1c15cf41e",
   "metadata": {},
   "outputs": [
    {
     "name": "stdout",
     "output_type": "stream",
     "text": [
      "(10000, 10, 28, 28)\n",
      "cost: 0.04205918312072754\n"
     ]
    }
   ],
   "source": [
    "s = time.time()\n",
    "\n",
    "fgraph = jit_conv2d(w, b)\n",
    "\n",
    "print(fgraph.shape)\n",
    "print(f'cost: {time.time() - s}')"
   ]
  },
  {
   "cell_type": "code",
   "execution_count": 15,
   "id": "8e9a0c10-5cf5-4e51-bc9b-91e919cf9713",
   "metadata": {},
   "outputs": [
    {
     "name": "stderr",
     "output_type": "stream",
     "text": [
      "IOStream.flush timed out\n"
     ]
    },
    {
     "ename": "KeyboardInterrupt",
     "evalue": "",
     "output_type": "error",
     "traceback": [
      "\u001b[0;31m---------------------------------------------------------------------------\u001b[0m",
      "\u001b[0;31mKeyboardInterrupt\u001b[0m                         Traceback (most recent call last)",
      "Cell \u001b[0;32mIn[15], line 3\u001b[0m\n\u001b[1;32m      1\u001b[0m s \u001b[38;5;241m=\u001b[39m time\u001b[38;5;241m.\u001b[39mtime()\n\u001b[0;32m----> 3\u001b[0m fgraph \u001b[38;5;241m=\u001b[39m \u001b[43mjit_max_pooling2d\u001b[49m\u001b[43m(\u001b[49m\u001b[43mfgraph\u001b[49m\u001b[43m)\u001b[49m\n\u001b[1;32m      5\u001b[0m \u001b[38;5;28mprint\u001b[39m(fgraph\u001b[38;5;241m.\u001b[39mshape)\n\u001b[1;32m      6\u001b[0m \u001b[38;5;28mprint\u001b[39m(\u001b[38;5;124mf\u001b[39m\u001b[38;5;124m'\u001b[39m\u001b[38;5;124mcost: \u001b[39m\u001b[38;5;132;01m{\u001b[39;00mtime\u001b[38;5;241m.\u001b[39mtime()\u001b[38;5;250m \u001b[39m\u001b[38;5;241m-\u001b[39m\u001b[38;5;250m \u001b[39ms\u001b[38;5;132;01m}\u001b[39;00m\u001b[38;5;124m'\u001b[39m)\n",
      "    \u001b[0;31m[... skipping hidden 1 frame]\u001b[0m\n",
      "File \u001b[0;32m~/Documents/Code/TODO/jaxdls/.venv/lib/python3.13/site-packages/jax/_src/pjit.py:341\u001b[0m, in \u001b[0;36m_cpp_pjit.<locals>.cache_miss\u001b[0;34m(*args, **kwargs)\u001b[0m\n\u001b[1;32m    336\u001b[0m \u001b[38;5;28;01mif\u001b[39;00m config\u001b[38;5;241m.\u001b[39mno_tracing\u001b[38;5;241m.\u001b[39mvalue:\n\u001b[1;32m    337\u001b[0m   \u001b[38;5;28;01mraise\u001b[39;00m \u001b[38;5;167;01mRuntimeError\u001b[39;00m(\u001b[38;5;124mf\u001b[39m\u001b[38;5;124m\"\u001b[39m\u001b[38;5;124mre-tracing function \u001b[39m\u001b[38;5;132;01m{\u001b[39;00mjit_info\u001b[38;5;241m.\u001b[39mfun_sourceinfo\u001b[38;5;132;01m}\u001b[39;00m\u001b[38;5;124m for \u001b[39m\u001b[38;5;124m\"\u001b[39m\n\u001b[1;32m    338\u001b[0m                      \u001b[38;5;124m\"\u001b[39m\u001b[38;5;124m`jit`, but \u001b[39m\u001b[38;5;124m'\u001b[39m\u001b[38;5;124mno_tracing\u001b[39m\u001b[38;5;124m'\u001b[39m\u001b[38;5;124m is set\u001b[39m\u001b[38;5;124m\"\u001b[39m)\n\u001b[1;32m    340\u001b[0m (outs, out_flat, out_tree, args_flat, jaxpr, attrs_tracked, executable,\n\u001b[0;32m--> 341\u001b[0m  pgle_profiler) \u001b[38;5;241m=\u001b[39m \u001b[43m_python_pjit_helper\u001b[49m\u001b[43m(\u001b[49m\u001b[43mfun\u001b[49m\u001b[43m,\u001b[49m\u001b[43m \u001b[49m\u001b[43mjit_info\u001b[49m\u001b[43m,\u001b[49m\u001b[43m \u001b[49m\u001b[38;5;241;43m*\u001b[39;49m\u001b[43margs\u001b[49m\u001b[43m,\u001b[49m\u001b[43m \u001b[49m\u001b[38;5;241;43m*\u001b[39;49m\u001b[38;5;241;43m*\u001b[39;49m\u001b[43mkwargs\u001b[49m\u001b[43m)\u001b[49m\n\u001b[1;32m    343\u001b[0m maybe_fastpath_data \u001b[38;5;241m=\u001b[39m _get_fastpath_data(\n\u001b[1;32m    344\u001b[0m     executable, out_tree, args_flat, out_flat, attrs_tracked, jaxpr\u001b[38;5;241m.\u001b[39meffects,\n\u001b[1;32m    345\u001b[0m     jaxpr\u001b[38;5;241m.\u001b[39mconsts, jit_info\u001b[38;5;241m.\u001b[39mabstracted_axes,\n\u001b[1;32m    346\u001b[0m     pgle_profiler)\n\u001b[1;32m    348\u001b[0m \u001b[38;5;28;01mreturn\u001b[39;00m outs, maybe_fastpath_data, _need_to_rebuild_with_fdo(pgle_profiler)\n",
      "File \u001b[0;32m~/Documents/Code/TODO/jaxdls/.venv/lib/python3.13/site-packages/jax/_src/pjit.py:180\u001b[0m, in \u001b[0;36m_python_pjit_helper\u001b[0;34m(fun, jit_info, *args, **kwargs)\u001b[0m\n\u001b[1;32m    179\u001b[0m \u001b[38;5;28;01mdef\u001b[39;00m\u001b[38;5;250m \u001b[39m\u001b[38;5;21m_python_pjit_helper\u001b[39m(fun: Callable, jit_info: PjitInfo, \u001b[38;5;241m*\u001b[39margs, \u001b[38;5;241m*\u001b[39m\u001b[38;5;241m*\u001b[39mkwargs):\n\u001b[0;32m--> 180\u001b[0m   p, args_flat \u001b[38;5;241m=\u001b[39m \u001b[43m_infer_params\u001b[49m\u001b[43m(\u001b[49m\u001b[43mfun\u001b[49m\u001b[43m,\u001b[49m\u001b[43m \u001b[49m\u001b[43mjit_info\u001b[49m\u001b[43m,\u001b[49m\u001b[43m \u001b[49m\u001b[43margs\u001b[49m\u001b[43m,\u001b[49m\u001b[43m \u001b[49m\u001b[43mkwargs\u001b[49m\u001b[43m)\u001b[49m\n\u001b[1;32m    182\u001b[0m   \u001b[38;5;28;01mfor\u001b[39;00m arg \u001b[38;5;129;01min\u001b[39;00m args_flat:\n\u001b[1;32m    183\u001b[0m     dispatch\u001b[38;5;241m.\u001b[39mcheck_arg(arg)\n",
      "File \u001b[0;32m~/Documents/Code/TODO/jaxdls/.venv/lib/python3.13/site-packages/jax/_src/pjit.py:730\u001b[0m, in \u001b[0;36m_infer_params\u001b[0;34m(fun, ji, args, kwargs)\u001b[0m\n\u001b[1;32m    728\u001b[0m entry \u001b[38;5;241m=\u001b[39m _infer_params_cached(fun, ji, signature, avals, pjit_mesh, resource_env)\n\u001b[1;32m    729\u001b[0m \u001b[38;5;28;01mif\u001b[39;00m entry\u001b[38;5;241m.\u001b[39mpjit_params \u001b[38;5;129;01mis\u001b[39;00m \u001b[38;5;28;01mNone\u001b[39;00m:\n\u001b[0;32m--> 730\u001b[0m   p, args_flat \u001b[38;5;241m=\u001b[39m \u001b[43m_infer_params_impl\u001b[49m\u001b[43m(\u001b[49m\n\u001b[1;32m    731\u001b[0m \u001b[43m      \u001b[49m\u001b[43mfun\u001b[49m\u001b[43m,\u001b[49m\u001b[43m \u001b[49m\u001b[43mji\u001b[49m\u001b[43m,\u001b[49m\u001b[43m \u001b[49m\u001b[43mpjit_mesh\u001b[49m\u001b[43m,\u001b[49m\u001b[43m \u001b[49m\u001b[43mresource_env\u001b[49m\u001b[43m,\u001b[49m\u001b[43m \u001b[49m\u001b[43mdbg\u001b[49m\u001b[43m,\u001b[49m\u001b[43m \u001b[49m\u001b[43margs\u001b[49m\u001b[43m,\u001b[49m\u001b[43m \u001b[49m\u001b[43mkwargs\u001b[49m\u001b[43m,\u001b[49m\u001b[43m \u001b[49m\u001b[43min_avals\u001b[49m\u001b[38;5;241;43m=\u001b[39;49m\u001b[43mavals\u001b[49m\u001b[43m)\u001b[49m\n\u001b[1;32m    732\u001b[0m   \u001b[38;5;28;01mif\u001b[39;00m p\u001b[38;5;241m.\u001b[39mattrs_tracked:  \u001b[38;5;66;03m# if attrs, don't popoulate the cache\u001b[39;00m\n\u001b[1;32m    733\u001b[0m     \u001b[38;5;28;01mreturn\u001b[39;00m p, p\u001b[38;5;241m.\u001b[39mconsts \u001b[38;5;241m+\u001b[39m args_flat\n",
      "File \u001b[0;32m~/Documents/Code/TODO/jaxdls/.venv/lib/python3.13/site-packages/jax/_src/pjit.py:623\u001b[0m, in \u001b[0;36m_infer_params_impl\u001b[0;34m(***failed resolving arguments***)\u001b[0m\n\u001b[1;32m    616\u001b[0m in_shardings_flat, in_layouts_flat \u001b[38;5;241m=\u001b[39m _process_in_axis_resources(\n\u001b[1;32m    617\u001b[0m     in_shardings_treedef, in_shardings_leaves,\n\u001b[1;32m    618\u001b[0m     ji\u001b[38;5;241m.\u001b[39min_layouts_treedef, ji\u001b[38;5;241m.\u001b[39min_layouts_leaves,\n\u001b[1;32m    619\u001b[0m     in_avals, in_tree, flat_fun\u001b[38;5;241m.\u001b[39mdebug_info, device_or_backend_set, have_kwargs)\n\u001b[1;32m    621\u001b[0m attr_token \u001b[38;5;241m=\u001b[39m _attr_token(flat_fun, in_type)\n\u001b[0;32m--> 623\u001b[0m jaxpr, consts, out_avals, attrs_tracked \u001b[38;5;241m=\u001b[39m \u001b[43m_create_pjit_jaxpr\u001b[49m\u001b[43m(\u001b[49m\n\u001b[1;32m    624\u001b[0m \u001b[43m    \u001b[49m\u001b[43mflat_fun\u001b[49m\u001b[43m,\u001b[49m\u001b[43m \u001b[49m\u001b[43min_type\u001b[49m\u001b[43m,\u001b[49m\u001b[43m \u001b[49m\u001b[43mattr_token\u001b[49m\u001b[43m,\u001b[49m\u001b[43m \u001b[49m\u001b[43mIgnoreKey\u001b[49m\u001b[43m(\u001b[49m\u001b[43mji\u001b[49m\u001b[38;5;241;43m.\u001b[39;49m\u001b[43minline\u001b[49m\u001b[43m)\u001b[49m\u001b[43m)\u001b[49m\n\u001b[1;32m    626\u001b[0m \u001b[38;5;28;01mif\u001b[39;00m config\u001b[38;5;241m.\u001b[39mmutable_array_checks\u001b[38;5;241m.\u001b[39mvalue:\n\u001b[1;32m    627\u001b[0m   _check_no_aliased_closed_over_refs(dbg, (\u001b[38;5;241m*\u001b[39mjaxpr\u001b[38;5;241m.\u001b[39mconsts, \u001b[38;5;241m*\u001b[39mconsts), explicit_args)\n",
      "File \u001b[0;32m~/Documents/Code/TODO/jaxdls/.venv/lib/python3.13/site-packages/jax/_src/linear_util.py:442\u001b[0m, in \u001b[0;36mcache.<locals>.memoized_fun\u001b[0;34m(fun, *args)\u001b[0m\n\u001b[1;32m    440\u001b[0m   fun\u001b[38;5;241m.\u001b[39mpopulate_stores(stores)\n\u001b[1;32m    441\u001b[0m \u001b[38;5;28;01melse\u001b[39;00m:\n\u001b[0;32m--> 442\u001b[0m   ans \u001b[38;5;241m=\u001b[39m \u001b[43mcall\u001b[49m\u001b[43m(\u001b[49m\u001b[43mfun\u001b[49m\u001b[43m,\u001b[49m\u001b[43m \u001b[49m\u001b[38;5;241;43m*\u001b[39;49m\u001b[43margs\u001b[49m\u001b[43m)\u001b[49m\n\u001b[1;32m    443\u001b[0m   \u001b[38;5;28;01mif\u001b[39;00m explain \u001b[38;5;129;01mand\u001b[39;00m config\u001b[38;5;241m.\u001b[39mexplain_cache_misses\u001b[38;5;241m.\u001b[39mvalue:\n\u001b[1;32m    444\u001b[0m     explain(fun, cache \u001b[38;5;129;01mis\u001b[39;00m new_cache, cache, key)\n",
      "File \u001b[0;32m~/Documents/Code/TODO/jaxdls/.venv/lib/python3.13/site-packages/jax/_src/pjit.py:1299\u001b[0m, in \u001b[0;36m_create_pjit_jaxpr\u001b[0;34m(***failed resolving arguments***)\u001b[0m\n\u001b[1;32m   1297\u001b[0m     attrs_tracked \u001b[38;5;241m=\u001b[39m []\n\u001b[1;32m   1298\u001b[0m   \u001b[38;5;28;01melse\u001b[39;00m:\n\u001b[0;32m-> 1299\u001b[0m     jaxpr, global_out_avals, consts, attrs_tracked \u001b[38;5;241m=\u001b[39m \u001b[43mpe\u001b[49m\u001b[38;5;241;43m.\u001b[39;49m\u001b[43mtrace_to_jaxpr_dynamic\u001b[49m\u001b[43m(\u001b[49m\n\u001b[1;32m   1300\u001b[0m \u001b[43m        \u001b[49m\u001b[43mfun\u001b[49m\u001b[43m,\u001b[49m\u001b[43m \u001b[49m\u001b[43min_type\u001b[49m\u001b[43m)\u001b[49m\n\u001b[1;32m   1301\u001b[0m     \u001b[38;5;66;03m# assert attr_data is sentinel or attr_data matches attrs_tracked\u001b[39;00m\n\u001b[1;32m   1303\u001b[0m \u001b[38;5;28;01mif\u001b[39;00m config\u001b[38;5;241m.\u001b[39mdebug_key_reuse\u001b[38;5;241m.\u001b[39mvalue:\n\u001b[1;32m   1304\u001b[0m   \u001b[38;5;66;03m# Import here to avoid circular imports\u001b[39;00m\n",
      "File \u001b[0;32m~/Documents/Code/TODO/jaxdls/.venv/lib/python3.13/site-packages/jax/_src/profiler.py:334\u001b[0m, in \u001b[0;36mannotate_function.<locals>.wrapper\u001b[0;34m(*args, **kwargs)\u001b[0m\n\u001b[1;32m    331\u001b[0m \u001b[38;5;129m@wraps\u001b[39m(func)\n\u001b[1;32m    332\u001b[0m \u001b[38;5;28;01mdef\u001b[39;00m\u001b[38;5;250m \u001b[39m\u001b[38;5;21mwrapper\u001b[39m(\u001b[38;5;241m*\u001b[39margs, \u001b[38;5;241m*\u001b[39m\u001b[38;5;241m*\u001b[39mkwargs):\n\u001b[1;32m    333\u001b[0m   \u001b[38;5;28;01mwith\u001b[39;00m TraceAnnotation(name, \u001b[38;5;241m*\u001b[39m\u001b[38;5;241m*\u001b[39mdecorator_kwargs):\n\u001b[0;32m--> 334\u001b[0m     \u001b[38;5;28;01mreturn\u001b[39;00m \u001b[43mfunc\u001b[49m\u001b[43m(\u001b[49m\u001b[38;5;241;43m*\u001b[39;49m\u001b[43margs\u001b[49m\u001b[43m,\u001b[49m\u001b[43m \u001b[49m\u001b[38;5;241;43m*\u001b[39;49m\u001b[38;5;241;43m*\u001b[39;49m\u001b[43mkwargs\u001b[49m\u001b[43m)\u001b[49m\n\u001b[1;32m    335\u001b[0m   \u001b[38;5;28;01mreturn\u001b[39;00m wrapper\n",
      "File \u001b[0;32m~/Documents/Code/TODO/jaxdls/.venv/lib/python3.13/site-packages/jax/_src/interpreters/partial_eval.py:2172\u001b[0m, in \u001b[0;36mtrace_to_jaxpr_dynamic\u001b[0;34m(fun, in_avals, keep_inputs)\u001b[0m\n\u001b[1;32m   2170\u001b[0m in_tracers \u001b[38;5;241m=\u001b[39m [t \u001b[38;5;28;01mfor\u001b[39;00m t, keep \u001b[38;5;129;01min\u001b[39;00m \u001b[38;5;28mzip\u001b[39m(in_tracers, keep_inputs) \u001b[38;5;28;01mif\u001b[39;00m keep]\n\u001b[1;32m   2171\u001b[0m \u001b[38;5;28;01mwith\u001b[39;00m core\u001b[38;5;241m.\u001b[39mset_current_trace(trace):\n\u001b[0;32m-> 2172\u001b[0m   ans \u001b[38;5;241m=\u001b[39m \u001b[43mfun\u001b[49m\u001b[38;5;241;43m.\u001b[39;49m\u001b[43mcall_wrapped\u001b[49m\u001b[43m(\u001b[49m\u001b[38;5;241;43m*\u001b[39;49m\u001b[43min_tracers\u001b[49m\u001b[43m)\u001b[49m\n\u001b[1;32m   2174\u001b[0m out_tracers \u001b[38;5;241m=\u001b[39m \u001b[38;5;28mmap\u001b[39m(trace\u001b[38;5;241m.\u001b[39mto_jaxpr_tracer, ans)\n\u001b[1;32m   2175\u001b[0m _check_no_returned_refs(fun\u001b[38;5;241m.\u001b[39mdebug_info, out_tracers)\n",
      "File \u001b[0;32m~/Documents/Code/TODO/jaxdls/.venv/lib/python3.13/site-packages/jax/_src/linear_util.py:210\u001b[0m, in \u001b[0;36mWrappedFun.call_wrapped\u001b[0;34m(self, *args, **kwargs)\u001b[0m\n\u001b[1;32m    208\u001b[0m \u001b[38;5;28;01mdef\u001b[39;00m\u001b[38;5;250m \u001b[39m\u001b[38;5;21mcall_wrapped\u001b[39m(\u001b[38;5;28mself\u001b[39m, \u001b[38;5;241m*\u001b[39margs, \u001b[38;5;241m*\u001b[39m\u001b[38;5;241m*\u001b[39mkwargs):\n\u001b[1;32m    209\u001b[0m \u001b[38;5;250m  \u001b[39m\u001b[38;5;124;03m\"\"\"Calls the transformed function\"\"\"\u001b[39;00m\n\u001b[0;32m--> 210\u001b[0m   \u001b[38;5;28;01mreturn\u001b[39;00m \u001b[38;5;28;43mself\u001b[39;49m\u001b[38;5;241;43m.\u001b[39;49m\u001b[43mf_transformed\u001b[49m\u001b[43m(\u001b[49m\u001b[38;5;241;43m*\u001b[39;49m\u001b[43margs\u001b[49m\u001b[43m,\u001b[49m\u001b[43m \u001b[49m\u001b[38;5;241;43m*\u001b[39;49m\u001b[38;5;241;43m*\u001b[39;49m\u001b[43mkwargs\u001b[49m\u001b[43m)\u001b[49m\n",
      "File \u001b[0;32m~/Documents/Code/TODO/jaxdls/.venv/lib/python3.13/site-packages/jax/_src/api_util.py:284\u001b[0m, in \u001b[0;36m_argnums_partial\u001b[0;34m(_fun, _dyn_argnums, _fixed_args, *dyn_args, **kwargs)\u001b[0m\n\u001b[1;32m    282\u001b[0m args \u001b[38;5;241m=\u001b[39m [\u001b[38;5;28mnext\u001b[39m(fixed_args_)\u001b[38;5;241m.\u001b[39mval \u001b[38;5;28;01mif\u001b[39;00m x \u001b[38;5;129;01mis\u001b[39;00m sentinel \u001b[38;5;28;01melse\u001b[39;00m x \u001b[38;5;28;01mfor\u001b[39;00m x \u001b[38;5;129;01min\u001b[39;00m args]\n\u001b[1;32m    283\u001b[0m \u001b[38;5;28;01massert\u001b[39;00m \u001b[38;5;28mnext\u001b[39m(fixed_args_, sentinel) \u001b[38;5;129;01mis\u001b[39;00m sentinel\n\u001b[0;32m--> 284\u001b[0m \u001b[38;5;28;01mreturn\u001b[39;00m \u001b[43m_fun\u001b[49m\u001b[43m(\u001b[49m\u001b[38;5;241;43m*\u001b[39;49m\u001b[43margs\u001b[49m\u001b[43m,\u001b[49m\u001b[43m \u001b[49m\u001b[38;5;241;43m*\u001b[39;49m\u001b[38;5;241;43m*\u001b[39;49m\u001b[43mkwargs\u001b[49m\u001b[43m)\u001b[49m\n",
      "File \u001b[0;32m~/Documents/Code/TODO/jaxdls/.venv/lib/python3.13/site-packages/jax/_src/api_util.py:73\u001b[0m, in \u001b[0;36mflatten_fun\u001b[0;34m(f, store, in_tree, *args_flat)\u001b[0m\n\u001b[1;32m     69\u001b[0m \u001b[38;5;129m@lu\u001b[39m\u001b[38;5;241m.\u001b[39mtransformation_with_aux2\n\u001b[1;32m     70\u001b[0m \u001b[38;5;28;01mdef\u001b[39;00m\u001b[38;5;250m \u001b[39m\u001b[38;5;21mflatten_fun\u001b[39m(f: Callable, store: lu\u001b[38;5;241m.\u001b[39mStore,\n\u001b[1;32m     71\u001b[0m                 in_tree: PyTreeDef, \u001b[38;5;241m*\u001b[39margs_flat):\n\u001b[1;32m     72\u001b[0m   py_args, py_kwargs \u001b[38;5;241m=\u001b[39m tree_unflatten(in_tree, args_flat)\n\u001b[0;32m---> 73\u001b[0m   ans \u001b[38;5;241m=\u001b[39m \u001b[43mf\u001b[49m\u001b[43m(\u001b[49m\u001b[38;5;241;43m*\u001b[39;49m\u001b[43mpy_args\u001b[49m\u001b[43m,\u001b[49m\u001b[43m \u001b[49m\u001b[38;5;241;43m*\u001b[39;49m\u001b[38;5;241;43m*\u001b[39;49m\u001b[43mpy_kwargs\u001b[49m\u001b[43m)\u001b[49m\n\u001b[1;32m     74\u001b[0m   ans, out_tree \u001b[38;5;241m=\u001b[39m tree_flatten(ans)\n\u001b[1;32m     75\u001b[0m   store\u001b[38;5;241m.\u001b[39mstore(out_tree)\n",
      "File \u001b[0;32m~/Documents/Code/TODO/jaxdls/.venv/lib/python3.13/site-packages/jax/_src/linear_util.py:370\u001b[0m, in \u001b[0;36m_get_result_paths_thunk\u001b[0;34m(_fun, _store, *args, **kwargs)\u001b[0m\n\u001b[1;32m    368\u001b[0m \u001b[38;5;129m@transformation_with_aux2\u001b[39m\n\u001b[1;32m    369\u001b[0m \u001b[38;5;28;01mdef\u001b[39;00m\u001b[38;5;250m \u001b[39m\u001b[38;5;21m_get_result_paths_thunk\u001b[39m(_fun: Callable, _store: Store, \u001b[38;5;241m*\u001b[39margs, \u001b[38;5;241m*\u001b[39m\u001b[38;5;241m*\u001b[39mkwargs):\n\u001b[0;32m--> 370\u001b[0m   ans \u001b[38;5;241m=\u001b[39m \u001b[43m_fun\u001b[49m\u001b[43m(\u001b[49m\u001b[38;5;241;43m*\u001b[39;49m\u001b[43margs\u001b[49m\u001b[43m,\u001b[49m\u001b[43m \u001b[49m\u001b[38;5;241;43m*\u001b[39;49m\u001b[38;5;241;43m*\u001b[39;49m\u001b[43mkwargs\u001b[49m\u001b[43m)\u001b[49m\n\u001b[1;32m    371\u001b[0m   result_paths \u001b[38;5;241m=\u001b[39m [_clean_keystr_arg_names(path) \u001b[38;5;28;01mfor\u001b[39;00m path, _ \u001b[38;5;129;01min\u001b[39;00m generate_key_paths(ans)]\n\u001b[1;32m    372\u001b[0m   \u001b[38;5;28;01mif\u001b[39;00m _store:\n\u001b[1;32m    373\u001b[0m     \u001b[38;5;66;03m# In some instances a lu.WrappedFun is called multiple times, e.g.,\u001b[39;00m\n\u001b[1;32m    374\u001b[0m     \u001b[38;5;66;03m# the bwd function in a custom_vjp\u001b[39;00m\n",
      "Cell \u001b[0;32mIn[1], line 55\u001b[0m, in \u001b[0;36mRawVersion.max_pooling2d\u001b[0;34m(x, pool_size, stride)\u001b[0m\n\u001b[1;32m     50\u001b[0m             \u001b[38;5;28;01mfor\u001b[39;00m j \u001b[38;5;129;01min\u001b[39;00m \u001b[38;5;28mrange\u001b[39m(output_width):\n\u001b[1;32m     51\u001b[0m                 window \u001b[38;5;241m=\u001b[39m x[n, c, \n\u001b[1;32m     52\u001b[0m                                 i \u001b[38;5;241m*\u001b[39m stride_height:i \u001b[38;5;241m*\u001b[39m stride_height \u001b[38;5;241m+\u001b[39m pool_height, \n\u001b[1;32m     53\u001b[0m                                 j \u001b[38;5;241m*\u001b[39m stride_width :j \u001b[38;5;241m*\u001b[39m stride_width  \u001b[38;5;241m+\u001b[39m pool_width]\n\u001b[1;32m     54\u001b[0m                 output_array\u001b[38;5;241m.\u001b[39mat[n, c, i, j]\u001b[38;5;241m.\u001b[39mset(\n\u001b[0;32m---> 55\u001b[0m                     \u001b[43mjnp\u001b[49m\u001b[38;5;241;43m.\u001b[39;49m\u001b[43mmax\u001b[49m\u001b[43m(\u001b[49m\u001b[43mwindow\u001b[49m\u001b[43m)\u001b[49m\n\u001b[1;32m     56\u001b[0m                 )\n\u001b[1;32m     58\u001b[0m \u001b[38;5;28;01mreturn\u001b[39;00m output_array\n",
      "File \u001b[0;32m~/Documents/Code/TODO/jaxdls/.venv/lib/python3.13/site-packages/jax/_src/numpy/reductions.py:483\u001b[0m, in \u001b[0;36mmax\u001b[0;34m(a, axis, out, keepdims, initial, where)\u001b[0m\n\u001b[1;32m    412\u001b[0m \u001b[38;5;129m@export\u001b[39m\n\u001b[1;32m    413\u001b[0m \u001b[38;5;28;01mdef\u001b[39;00m\u001b[38;5;250m \u001b[39m\u001b[38;5;21mmax\u001b[39m(a: ArrayLike, axis: Axis \u001b[38;5;241m=\u001b[39m \u001b[38;5;28;01mNone\u001b[39;00m, out: \u001b[38;5;28;01mNone\u001b[39;00m \u001b[38;5;241m=\u001b[39m \u001b[38;5;28;01mNone\u001b[39;00m,\n\u001b[1;32m    414\u001b[0m         keepdims: \u001b[38;5;28mbool\u001b[39m \u001b[38;5;241m=\u001b[39m \u001b[38;5;28;01mFalse\u001b[39;00m, initial: ArrayLike \u001b[38;5;241m|\u001b[39m \u001b[38;5;28;01mNone\u001b[39;00m \u001b[38;5;241m=\u001b[39m \u001b[38;5;28;01mNone\u001b[39;00m,\n\u001b[1;32m    415\u001b[0m         where: ArrayLike \u001b[38;5;241m|\u001b[39m \u001b[38;5;28;01mNone\u001b[39;00m \u001b[38;5;241m=\u001b[39m \u001b[38;5;28;01mNone\u001b[39;00m) \u001b[38;5;241m-\u001b[39m\u001b[38;5;241m>\u001b[39m Array:\n\u001b[1;32m    416\u001b[0m \u001b[38;5;250m  \u001b[39m\u001b[38;5;124mr\u001b[39m\u001b[38;5;124;03m\"\"\"Return the maximum of the array elements along a given axis.\u001b[39;00m\n\u001b[1;32m    417\u001b[0m \n\u001b[1;32m    418\u001b[0m \u001b[38;5;124;03m  JAX implementation of :func:`numpy.max`.\u001b[39;00m\n\u001b[0;32m   (...)\u001b[0m\n\u001b[1;32m    481\u001b[0m \u001b[38;5;124;03m    Array([[0, 0, 0, 0]], dtype=int32)\u001b[39;00m\n\u001b[1;32m    482\u001b[0m \u001b[38;5;124;03m  \"\"\"\u001b[39;00m\n\u001b[0;32m--> 483\u001b[0m   \u001b[38;5;28;01mreturn\u001b[39;00m \u001b[43m_reduce_max\u001b[49m\u001b[43m(\u001b[49m\u001b[43ma\u001b[49m\u001b[43m,\u001b[49m\u001b[43m \u001b[49m\u001b[43maxis\u001b[49m\u001b[38;5;241;43m=\u001b[39;49m\u001b[43m_ensure_optional_axes\u001b[49m\u001b[43m(\u001b[49m\u001b[43maxis\u001b[49m\u001b[43m)\u001b[49m\u001b[43m,\u001b[49m\u001b[43m \u001b[49m\u001b[43mout\u001b[49m\u001b[38;5;241;43m=\u001b[39;49m\u001b[43mout\u001b[49m\u001b[43m,\u001b[49m\n\u001b[1;32m    484\u001b[0m \u001b[43m                     \u001b[49m\u001b[43mkeepdims\u001b[49m\u001b[38;5;241;43m=\u001b[39;49m\u001b[43mkeepdims\u001b[49m\u001b[43m,\u001b[49m\u001b[43m \u001b[49m\u001b[43minitial\u001b[49m\u001b[38;5;241;43m=\u001b[39;49m\u001b[43minitial\u001b[49m\u001b[43m,\u001b[49m\u001b[43m \u001b[49m\u001b[43mwhere\u001b[49m\u001b[38;5;241;43m=\u001b[39;49m\u001b[43mwhere\u001b[49m\u001b[43m)\u001b[49m\n",
      "    \u001b[0;31m[... skipping hidden 1 frame]\u001b[0m\n",
      "File \u001b[0;32m~/Documents/Code/TODO/jaxdls/.venv/lib/python3.13/site-packages/jax/_src/pjit.py:341\u001b[0m, in \u001b[0;36m_cpp_pjit.<locals>.cache_miss\u001b[0;34m(*args, **kwargs)\u001b[0m\n\u001b[1;32m    336\u001b[0m \u001b[38;5;28;01mif\u001b[39;00m config\u001b[38;5;241m.\u001b[39mno_tracing\u001b[38;5;241m.\u001b[39mvalue:\n\u001b[1;32m    337\u001b[0m   \u001b[38;5;28;01mraise\u001b[39;00m \u001b[38;5;167;01mRuntimeError\u001b[39;00m(\u001b[38;5;124mf\u001b[39m\u001b[38;5;124m\"\u001b[39m\u001b[38;5;124mre-tracing function \u001b[39m\u001b[38;5;132;01m{\u001b[39;00mjit_info\u001b[38;5;241m.\u001b[39mfun_sourceinfo\u001b[38;5;132;01m}\u001b[39;00m\u001b[38;5;124m for \u001b[39m\u001b[38;5;124m\"\u001b[39m\n\u001b[1;32m    338\u001b[0m                      \u001b[38;5;124m\"\u001b[39m\u001b[38;5;124m`jit`, but \u001b[39m\u001b[38;5;124m'\u001b[39m\u001b[38;5;124mno_tracing\u001b[39m\u001b[38;5;124m'\u001b[39m\u001b[38;5;124m is set\u001b[39m\u001b[38;5;124m\"\u001b[39m)\n\u001b[1;32m    340\u001b[0m (outs, out_flat, out_tree, args_flat, jaxpr, attrs_tracked, executable,\n\u001b[0;32m--> 341\u001b[0m  pgle_profiler) \u001b[38;5;241m=\u001b[39m \u001b[43m_python_pjit_helper\u001b[49m\u001b[43m(\u001b[49m\u001b[43mfun\u001b[49m\u001b[43m,\u001b[49m\u001b[43m \u001b[49m\u001b[43mjit_info\u001b[49m\u001b[43m,\u001b[49m\u001b[43m \u001b[49m\u001b[38;5;241;43m*\u001b[39;49m\u001b[43margs\u001b[49m\u001b[43m,\u001b[49m\u001b[43m \u001b[49m\u001b[38;5;241;43m*\u001b[39;49m\u001b[38;5;241;43m*\u001b[39;49m\u001b[43mkwargs\u001b[49m\u001b[43m)\u001b[49m\n\u001b[1;32m    343\u001b[0m maybe_fastpath_data \u001b[38;5;241m=\u001b[39m _get_fastpath_data(\n\u001b[1;32m    344\u001b[0m     executable, out_tree, args_flat, out_flat, attrs_tracked, jaxpr\u001b[38;5;241m.\u001b[39meffects,\n\u001b[1;32m    345\u001b[0m     jaxpr\u001b[38;5;241m.\u001b[39mconsts, jit_info\u001b[38;5;241m.\u001b[39mabstracted_axes,\n\u001b[1;32m    346\u001b[0m     pgle_profiler)\n\u001b[1;32m    348\u001b[0m \u001b[38;5;28;01mreturn\u001b[39;00m outs, maybe_fastpath_data, _need_to_rebuild_with_fdo(pgle_profiler)\n",
      "File \u001b[0;32m~/Documents/Code/TODO/jaxdls/.venv/lib/python3.13/site-packages/jax/_src/pjit.py:180\u001b[0m, in \u001b[0;36m_python_pjit_helper\u001b[0;34m(fun, jit_info, *args, **kwargs)\u001b[0m\n\u001b[1;32m    179\u001b[0m \u001b[38;5;28;01mdef\u001b[39;00m\u001b[38;5;250m \u001b[39m\u001b[38;5;21m_python_pjit_helper\u001b[39m(fun: Callable, jit_info: PjitInfo, \u001b[38;5;241m*\u001b[39margs, \u001b[38;5;241m*\u001b[39m\u001b[38;5;241m*\u001b[39mkwargs):\n\u001b[0;32m--> 180\u001b[0m   p, args_flat \u001b[38;5;241m=\u001b[39m \u001b[43m_infer_params\u001b[49m\u001b[43m(\u001b[49m\u001b[43mfun\u001b[49m\u001b[43m,\u001b[49m\u001b[43m \u001b[49m\u001b[43mjit_info\u001b[49m\u001b[43m,\u001b[49m\u001b[43m \u001b[49m\u001b[43margs\u001b[49m\u001b[43m,\u001b[49m\u001b[43m \u001b[49m\u001b[43mkwargs\u001b[49m\u001b[43m)\u001b[49m\n\u001b[1;32m    182\u001b[0m   \u001b[38;5;28;01mfor\u001b[39;00m arg \u001b[38;5;129;01min\u001b[39;00m args_flat:\n\u001b[1;32m    183\u001b[0m     dispatch\u001b[38;5;241m.\u001b[39mcheck_arg(arg)\n",
      "File \u001b[0;32m~/Documents/Code/TODO/jaxdls/.venv/lib/python3.13/site-packages/jax/_src/pjit.py:714\u001b[0m, in \u001b[0;36m_infer_params\u001b[0;34m(fun, ji, args, kwargs)\u001b[0m\n\u001b[1;32m    711\u001b[0m   resource_env \u001b[38;5;241m=\u001b[39m \u001b[38;5;28;01mNone\u001b[39;00m\n\u001b[1;32m    712\u001b[0m   pjit_mesh \u001b[38;5;241m=\u001b[39m \u001b[38;5;28;01mNone\u001b[39;00m\n\u001b[0;32m--> 714\u001b[0m dbg \u001b[38;5;241m=\u001b[39m \u001b[43mdebug_info\u001b[49m\u001b[43m(\u001b[49m\n\u001b[1;32m    715\u001b[0m \u001b[43m    \u001b[49m\u001b[38;5;124;43m'\u001b[39;49m\u001b[38;5;124;43mjit\u001b[39;49m\u001b[38;5;124;43m'\u001b[39;49m\u001b[43m,\u001b[49m\u001b[43m \u001b[49m\u001b[43mfun\u001b[49m\u001b[43m,\u001b[49m\u001b[43m \u001b[49m\u001b[43margs\u001b[49m\u001b[43m,\u001b[49m\u001b[43m \u001b[49m\u001b[43mkwargs\u001b[49m\u001b[43m,\u001b[49m\u001b[43m \u001b[49m\u001b[43mstatic_argnums\u001b[49m\u001b[38;5;241;43m=\u001b[39;49m\u001b[43mji\u001b[49m\u001b[38;5;241;43m.\u001b[39;49m\u001b[43mstatic_argnums\u001b[49m\u001b[43m,\u001b[49m\n\u001b[1;32m    716\u001b[0m \u001b[43m    \u001b[49m\u001b[43mstatic_argnames\u001b[49m\u001b[38;5;241;43m=\u001b[39;49m\u001b[43mji\u001b[49m\u001b[38;5;241;43m.\u001b[39;49m\u001b[43mstatic_argnames\u001b[49m\u001b[43m,\u001b[49m\u001b[43m \u001b[49m\u001b[43msourceinfo\u001b[49m\u001b[38;5;241;43m=\u001b[39;49m\u001b[43mji\u001b[49m\u001b[38;5;241;43m.\u001b[39;49m\u001b[43mfun_sourceinfo\u001b[49m\u001b[43m,\u001b[49m\n\u001b[1;32m    717\u001b[0m \u001b[43m    \u001b[49m\u001b[43msignature\u001b[49m\u001b[38;5;241;43m=\u001b[39;49m\u001b[43mji\u001b[49m\u001b[38;5;241;43m.\u001b[39;49m\u001b[43mfun_signature\u001b[49m\u001b[43m)\u001b[49m\n\u001b[1;32m    719\u001b[0m \u001b[38;5;28;01mif\u001b[39;00m config\u001b[38;5;241m.\u001b[39mdynamic_shapes\u001b[38;5;241m.\u001b[39mvalue:  \u001b[38;5;66;03m# if dynamic shapes, don't use the cache\u001b[39;00m\n\u001b[1;32m    720\u001b[0m   p, args_flat \u001b[38;5;241m=\u001b[39m _infer_params_impl(fun, ji, pjit_mesh, resource_env, dbg,\n\u001b[1;32m    721\u001b[0m                                     args, kwargs, in_avals\u001b[38;5;241m=\u001b[39m\u001b[38;5;28;01mNone\u001b[39;00m)\n",
      "File \u001b[0;32m~/Documents/Code/TODO/jaxdls/.venv/lib/python3.13/site-packages/jax/_src/api_util.py:611\u001b[0m, in \u001b[0;36mdebug_info\u001b[0;34m(traced_for, fun, args, kwargs, static_argnums, static_argnames, result_paths_thunk, sourceinfo, signature)\u001b[0m\n\u001b[1;32m    609\u001b[0m \u001b[38;5;28;01mif\u001b[39;00m signature \u001b[38;5;129;01mis\u001b[39;00m \u001b[38;5;28;01mNone\u001b[39;00m:\n\u001b[1;32m    610\u001b[0m   signature \u001b[38;5;241m=\u001b[39m fun_signature(fun)\n\u001b[0;32m--> 611\u001b[0m arg_names \u001b[38;5;241m=\u001b[39m \u001b[43m_non_static_arg_names\u001b[49m\u001b[43m(\u001b[49m\u001b[43msignature\u001b[49m\u001b[43m,\u001b[49m\u001b[43m \u001b[49m\u001b[43margs\u001b[49m\u001b[43m,\u001b[49m\u001b[43m \u001b[49m\u001b[43mkwargs\u001b[49m\u001b[43m,\u001b[49m\u001b[43m \u001b[49m\u001b[43mstatic_argnums\u001b[49m\u001b[43m,\u001b[49m\n\u001b[1;32m    612\u001b[0m \u001b[43m                                  \u001b[49m\u001b[43mstatic_argnames\u001b[49m\u001b[43m)\u001b[49m\n\u001b[1;32m    613\u001b[0m \u001b[38;5;28;01mreturn\u001b[39;00m core\u001b[38;5;241m.\u001b[39mDebugInfo(traced_for, sourceinfo, arg_names, result_paths_thunk)\n",
      "File \u001b[0;32m~/Documents/Code/TODO/jaxdls/.venv/lib/python3.13/site-packages/jax/_src/api_util.py:676\u001b[0m, in \u001b[0;36m_non_static_arg_names\u001b[0;34m(fn_signature, args, kwargs, static_argnums, static_argnames)\u001b[0m\n\u001b[1;32m    674\u001b[0m static_argnames_ \u001b[38;5;241m=\u001b[39m \u001b[38;5;28mset\u001b[39m(static_argnames)\n\u001b[1;32m    675\u001b[0m args_ \u001b[38;5;241m=\u001b[39m [static \u001b[38;5;28;01mif\u001b[39;00m i \u001b[38;5;129;01min\u001b[39;00m static_argnums_ \u001b[38;5;28;01melse\u001b[39;00m x \u001b[38;5;28;01mfor\u001b[39;00m i, x \u001b[38;5;129;01min\u001b[39;00m \u001b[38;5;28menumerate\u001b[39m(args)]\n\u001b[0;32m--> 676\u001b[0m kwargs_ \u001b[38;5;241m=\u001b[39m {k:static \u001b[38;5;28;01mif\u001b[39;00m k \u001b[38;5;129;01min\u001b[39;00m static_argnames_ \u001b[38;5;28;01melse\u001b[39;00m x \u001b[38;5;28;01mfor\u001b[39;00m k, x \u001b[38;5;129;01min\u001b[39;00m kwargs\u001b[38;5;241m.\u001b[39mitems()}\n\u001b[1;32m    677\u001b[0m \u001b[38;5;28;01mif\u001b[39;00m fn_signature \u001b[38;5;129;01mis\u001b[39;00m \u001b[38;5;129;01mnot\u001b[39;00m \u001b[38;5;28;01mNone\u001b[39;00m:\n\u001b[1;32m    678\u001b[0m   \u001b[38;5;28;01mtry\u001b[39;00m:\n",
      "\u001b[0;31mKeyboardInterrupt\u001b[0m: "
     ]
    }
   ],
   "source": [
    "s = time.time()\n",
    "\n",
    "fgraph = jit_max_pooling2d(fgraph)\n",
    "\n",
    "print(fgraph.shape)\n",
    "print(f'cost: {time.time() - s}')"
   ]
  }
 ],
 "metadata": {
  "kernelspec": {
   "display_name": "Python 3 (ipykernel)",
   "language": "python",
   "name": "python3"
  },
  "language_info": {
   "codemirror_mode": {
    "name": "ipython",
    "version": 3
   },
   "file_extension": ".py",
   "mimetype": "text/x-python",
   "name": "python",
   "nbconvert_exporter": "python",
   "pygments_lexer": "ipython3",
   "version": "3.13.2+"
  }
 },
 "nbformat": 4,
 "nbformat_minor": 5
}
