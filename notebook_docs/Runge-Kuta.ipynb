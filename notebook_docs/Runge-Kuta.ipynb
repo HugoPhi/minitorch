{
 "cells": [
  {
   "cell_type": "code",
   "execution_count": 1,
   "id": "fb2022e6-6fdd-40e2-bd49-241ecd3692d0",
   "metadata": {},
   "outputs": [],
   "source": [
    "import jax.numpy as jnp\n",
    "from jax import grad, jit, lax"
   ]
  },
  {
   "cell_type": "code",
   "execution_count": 2,
   "id": "ec3c7cb7-4af6-4727-9207-f9400fb54cca",
   "metadata": {},
   "outputs": [],
   "source": [
    "# Runge-Kuta\n",
    "def rk4(f, t0, t1, steps, y0):\n",
    "    T = jnp.linspace(t0, t1, steps, endpoint=False)  # time stamps\n",
    "    h = (t1 - t0) / steps\n",
    "\n",
    "    @jit\n",
    "    def step(carry, t):\n",
    "        y_prev = carry\n",
    "\n",
    "        k1 = h * f(t, y_prev)\n",
    "        k2 = h * f(t + h/2, y_prev + k1/2)\n",
    "        k3 = h * f(t + h/2, y_prev + k2/2)\n",
    "        k4 = h * f(t + h/2, y_prev + k3)\n",
    "\n",
    "        new_y = y_prev + (k1 + 2*k2 + 2*k3 + k4)/6\n",
    "\n",
    "        return new_y, ()\n",
    "\n",
    "    y1, _ = lax.scan(step, y0, T)\n",
    "\n",
    "    return y1"
   ]
  },
  {
   "cell_type": "code",
   "execution_count": 4,
   "id": "4e6e3aae-2f75-4f12-88a2-ea6736e95121",
   "metadata": {},
   "outputs": [
    {
     "name": "stdout",
     "output_type": "stream",
     "text": [
      "time: 0.02400350570678711 s\n",
      "[2.7178273  6.5947914  0.21133728]\n"
     ]
    }
   ],
   "source": [
    "f = lambda t, y: t*y\n",
    "t0 = jnp.array([0., 1., 3.])\n",
    "t1 = jnp.sqrt(2)\n",
    "steps = 1000\n",
    "y0 = jnp.array([1., 4., 7.])\n",
    "\n",
    "import time\n",
    "s = time.time()\n",
    "y1 = rk4(f, t0, t1, steps, y0)\n",
    "print(f'time: {time.time() - s} s')\n",
    "print(y1)"
   ]
  }
 ],
 "metadata": {
  "kernelspec": {
   "display_name": "Python 3 (ipykernel)",
   "language": "python",
   "name": "python3"
  },
  "language_info": {
   "codemirror_mode": {
    "name": "ipython",
    "version": 3
   },
   "file_extension": ".py",
   "mimetype": "text/x-python",
   "name": "python",
   "nbconvert_exporter": "python",
   "pygments_lexer": "ipython3",
   "version": "3.13.2+"
  }
 },
 "nbformat": 4,
 "nbformat_minor": 5
}
